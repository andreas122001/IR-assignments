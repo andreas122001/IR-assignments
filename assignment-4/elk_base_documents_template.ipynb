{
 "cells": [
  {
   "cell_type": "code",
   "execution_count": 1,
   "id": "73722595-d5ca-4373-add0-b28e411a12ff",
   "metadata": {},
   "outputs": [
    {
     "name": "stdout",
     "output_type": "stream",
     "text": [
      "Requirement already satisfied: elasticsearch in c:\\users\\andre\\appdata\\local\\packages\\pythonsoftwarefoundation.python.3.10_qbz5n2kfra8p0\\localcache\\local-packages\\python310\\site-packages (8.10.1)\n",
      "Requirement already satisfied: elastic-transport<9,>=8 in c:\\users\\andre\\appdata\\local\\packages\\pythonsoftwarefoundation.python.3.10_qbz5n2kfra8p0\\localcache\\local-packages\\python310\\site-packages (from elasticsearch) (8.4.1)\n",
      "Requirement already satisfied: urllib3<2,>=1.26.2 in c:\\users\\andre\\appdata\\local\\packages\\pythonsoftwarefoundation.python.3.10_qbz5n2kfra8p0\\localcache\\local-packages\\python310\\site-packages (from elastic-transport<9,>=8->elasticsearch) (1.26.12)\n",
      "Requirement already satisfied: certifi in c:\\users\\andre\\appdata\\local\\packages\\pythonsoftwarefoundation.python.3.10_qbz5n2kfra8p0\\localcache\\local-packages\\python310\\site-packages (from elastic-transport<9,>=8->elasticsearch) (2022.6.15)\n",
      "Note: you may need to restart the kernel to use updated packages.\n"
     ]
    },
    {
     "name": "stderr",
     "output_type": "stream",
     "text": [
      "\n",
      "[notice] A new release of pip is available: 23.1.2 -> 23.3.1\n",
      "[notice] To update, run: C:\\Users\\andre\\AppData\\Local\\Microsoft\\WindowsApps\\PythonSoftwareFoundation.Python.3.10_qbz5n2kfra8p0\\python.exe -m pip install --upgrade pip\n"
     ]
    }
   ],
   "source": [
    "%pip install elasticsearch"
   ]
  },
  {
   "cell_type": "code",
   "execution_count": 2,
   "id": "63ca2200-e0ce-4af8-bdfb-9532b17b5cc1",
   "metadata": {},
   "outputs": [
    {
     "data": {
      "text/plain": [
       "ObjectApiResponse({'name': 'es-node', 'cluster_name': 'tdt4117-ir-data-cluster', 'cluster_uuid': 'iRATYbcjQ8qoqJSg4qqxqg', 'version': {'number': '8.4.2', 'build_flavor': 'default', 'build_type': 'docker', 'build_hash': '89f8c6d8429db93b816403ee75e5c270b43a940a', 'build_date': '2022-09-14T16:26:04.382547801Z', 'build_snapshot': False, 'lucene_version': '9.3.0', 'minimum_wire_compatibility_version': '7.17.0', 'minimum_index_compatibility_version': '7.0.0'}, 'tagline': 'You Know, for Search'})"
      ]
     },
     "execution_count": 2,
     "metadata": {},
     "output_type": "execute_result"
    }
   ],
   "source": [
    "from datetime import datetime\n",
    "from elasticsearch import Elasticsearch\n",
    "from indexer import CustomIndexer\n",
    "\n",
    "ELASTIC_PASSWORD = \"p2iFCHUbC7ze1QoIMVw\"\n",
    "\n",
    "es = Elasticsearch(\"http://localhost:9200\",\n",
    "                    basic_auth=(\"elastic\", ELASTIC_PASSWORD))\n",
    "\n",
    "es.info()"
   ]
  },
  {
   "cell_type": "code",
   "execution_count": 11,
   "id": "93d40d0c-9401-41ab-85ba-01ffba121098",
   "metadata": {},
   "outputs": [],
   "source": [
    "# Import documents into elastic\n",
    "index_name = \"c\"\n",
    "corpus = []\n",
    "for i in range(1,7):\n",
    "    with open(f\"./DataAssignment4/Text{i}.txt\") as f:\n",
    "        title = f\"Document {i-1}\"\n",
    "        content = f.read()\n",
    "        corpus.append({'title': title, 'content': content})\n",
    "if not es.indices.exists(index=index_name):\n",
    "    es.indices.create(index=index_name, ignore=400)\n",
    "    for i, doc in enumerate(corpus):\n",
    "        es.index(index=index_name, id=i, body=doc)\n",
    "\n",
    "# Initiate our own indexer:\n",
    "indexer = CustomIndexer([doc['content'] for doc in corpus])"
   ]
  },
  {
   "cell_type": "code",
   "execution_count": 23,
   "id": "324ec6ba",
   "metadata": {},
   "outputs": [],
   "source": [
    "def print_es(results):\n",
    "    print(\"ElasticSearch:\")\n",
    "    for hit in results['hits']['hits']:\n",
    "        print(f\"ID: {hit['_id']}, Score: {hit['_score']}, Document: {hit['_source']['content'][:100]}\")\n",
    "    print()\n",
    "def print_custom(results):\n",
    "    print(\"Custom (ours):\")\n",
    "    if results:\n",
    "        for res in results:\n",
    "            print(f\"ID: {res['id']}, Score: {res['score']:.4f}, Content: {res['content'][:100]}\")\n",
    "    else:\n",
    "        print(\"No results...\")\n",
    "    print()"
   ]
  },
  {
   "cell_type": "code",
   "execution_count": 24,
   "id": "b137d904-a317-445f-b425-acecff90d027",
   "metadata": {},
   "outputs": [
    {
     "name": "stdout",
     "output_type": "stream",
     "text": [
      "ElasticSearch:\n",
      "ID: 1, Score: 1.5535183, Document: One morning, when Gregor Samsa woke from troubled dreams, he found himself transformed in his bed in\n",
      "\n",
      "Custom (ours):\n",
      "ID: 5, Score: 4.7549, Content: But I must explain to you how all this mistaken idea of denouncing pleasure and praising pain was bo\n",
      "ID: 1, Score: 1.5850, Content: One morning, when Gregor Samsa woke from troubled dreams, he found himself transformed in his bed in\n",
      "\n"
     ]
    }
   ],
   "source": [
    "# Query \"claim\"\n",
    "query = \"claim\"\n",
    "es_query = {\n",
    "    \"query\": {\n",
    "        \"match\": {\n",
    "            \"content\": query\n",
    "        }\n",
    "    }\n",
    "}\n",
    "print_es(es.search(index=index_name, body=es_query))\n",
    "print_custom(indexer.search(query))"
   ]
  },
  {
   "cell_type": "code",
   "execution_count": 25,
   "id": "11541753-dd90-4839-bea9-2430e7442779",
   "metadata": {},
   "outputs": [
    {
     "name": "stdout",
     "output_type": "stream",
     "text": [
      "ElasticSearch:\n",
      "ID: 1, Score: 1.0, Document: One morning, when Gregor Samsa woke from troubled dreams, he found himself transformed in his bed in\n",
      "ID: 5, Score: 1.0, Document: But I must explain to you how all this mistaken idea of denouncing pleasure and praising pain was bo\n",
      "\n",
      "Custom (ours):\n",
      "ID: 5, Score: 4.7549, Content: But I must explain to you how all this mistaken idea of denouncing pleasure and praising pain was bo\n",
      "ID: 1, Score: 1.5850, Content: One morning, when Gregor Samsa woke from troubled dreams, he found himself transformed in his bed in\n",
      "\n"
     ]
    }
   ],
   "source": [
    "# Query \"claim*\"\n",
    "query = \"claim*\"\n",
    "\n",
    "es_query = {\n",
    "    \"query\": {\n",
    "        \"wildcard\": {\n",
    "            \"content\": {\n",
    "                \"value\": query\n",
    "            }\n",
    "        }\n",
    "    }\n",
    "}\n",
    "print_es(es.search(index=index_name, body=es_query))\n",
    "print_custom(indexer.search(query))"
   ]
  },
  {
   "cell_type": "code",
   "execution_count": 26,
   "id": "cfd121de-1c98-458e-8e71-83109d92f147",
   "metadata": {},
   "outputs": [
    {
     "name": "stdout",
     "output_type": "stream",
     "text": [
      "ElasticSearch:\n",
      "ID: 5, Score: 5.4214234, Document: But I must explain to you how all this mistaken idea of denouncing pleasure and praising pain was bo\n",
      "ID: 0, Score: 0.15978271, Document: A wonderful serenity has taken possession of my entire soul, like these sweet mornings of spring whi\n",
      "ID: 3, Score: 0.15705192, Document: Far far away, behind the word mountains, far from the countries Vokalia and Consonantia, there live \n",
      "ID: 4, Score: 0.15643656, Document: The European languages are members of the same family. Their separate existence is a myth. For scien\n",
      "ID: 1, Score: 0.15394345, Document: One morning, when Gregor Samsa woke from troubled dreams, he found himself transformed in his bed in\n",
      "ID: 2, Score: 0.14411825, Document: The quick, brown fox jumps over a lazy dog. DJs flock by when MTV ax quiz prog. Junk MTV quiz graced\n",
      "\n",
      "Custom (ours):\n",
      "ID: 5, Score: 20.2647, Content: But I must explain to you how all this mistaken idea of denouncing pleasure and praising pain was bo\n",
      "ID: 1, Score: 1.5850, Content: One morning, when Gregor Samsa woke from troubled dreams, he found himself transformed in his bed in\n",
      "\n"
     ]
    }
   ],
   "source": [
    "# Query \"claims of duty\"\n",
    "query = \"claims of duty\"\n",
    "es_query = {\n",
    "    \"query\": {\n",
    "        \"match\": {\n",
    "            \"content\": query\n",
    "        }\n",
    "    }\n",
    "}\n",
    "print_es(es.search(index=index_name, body=es_query))\n",
    "print_custom(indexer.search(query))"
   ]
  },
  {
   "cell_type": "code",
   "execution_count": 27,
   "id": "468012a9-b81e-4e5f-b383-90d8d5ac60d5",
   "metadata": {},
   "outputs": [
    {
     "name": "stdout",
     "output_type": "stream",
     "text": [
      "ElasticSearch:\n",
      "ID: 5, Score: 4.979805, Document: But I must explain to you how all this mistaken idea of denouncing pleasure and praising pain was bo\n",
      "\n",
      "Custom (ours):\n",
      "ID: 5, Score: 20.2647, Content: But I must explain to you how all this mistaken idea of denouncing pleasure and praising pain was bo\n",
      "ID: 1, Score: 1.5850, Content: One morning, when Gregor Samsa woke from troubled dreams, he found himself transformed in his bed in\n",
      "\n"
     ]
    }
   ],
   "source": [
    "# Query \"claims of duty\" in an alternative way\n",
    "# The alternative way uses match_phrase which returns only documents that contain the query exactly as it is written. Which in this case turned out to only be document 5\n",
    "query = \"claims of duty\"\n",
    "es_query = {\n",
    "    \"query\": {\n",
    "        \"match_phrase\": {\n",
    "            \"content\": query\n",
    "        }\n",
    "    }\n",
    "}\n",
    "print_es(es.search(index=index_name, body=es_query))\n",
    "print_custom(indexer.search(query))"
   ]
  }
 ],
 "metadata": {
  "kernelspec": {
   "display_name": "Python 3 (ipykernel)",
   "language": "python",
   "name": "python3"
  },
  "language_info": {
   "codemirror_mode": {
    "name": "ipython",
    "version": 3
   },
   "file_extension": ".py",
   "mimetype": "text/x-python",
   "name": "python",
   "nbconvert_exporter": "python",
   "pygments_lexer": "ipython3",
   "version": "3.10.11"
  }
 },
 "nbformat": 4,
 "nbformat_minor": 5
}

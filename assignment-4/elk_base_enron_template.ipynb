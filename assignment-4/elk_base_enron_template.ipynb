{
 "cells": [
  {
   "cell_type": "code",
   "execution_count": 1,
   "id": "05ea4f66-2eb4-495f-9d43-f908d9b8bdec",
   "metadata": {},
   "outputs": [
    {
     "name": "stdout",
     "output_type": "stream",
     "text": [
      "Requirement already satisfied: elasticsearch in c:\\users\\andre\\appdata\\local\\packages\\pythonsoftwarefoundation.python.3.10_qbz5n2kfra8p0\\localcache\\local-packages\\python310\\site-packages (8.10.1)\n",
      "Requirement already satisfied: gdown in c:\\users\\andre\\appdata\\local\\packages\\pythonsoftwarefoundation.python.3.10_qbz5n2kfra8p0\\localcache\\local-packages\\python310\\site-packages (4.7.1)\n",
      "Requirement already satisfied: elastic-transport<9,>=8 in c:\\users\\andre\\appdata\\local\\packages\\pythonsoftwarefoundation.python.3.10_qbz5n2kfra8p0\\localcache\\local-packages\\python310\\site-packages (from elasticsearch) (8.4.1)\n",
      "Requirement already satisfied: filelock in c:\\users\\andre\\appdata\\local\\packages\\pythonsoftwarefoundation.python.3.10_qbz5n2kfra8p0\\localcache\\local-packages\\python310\\site-packages (from gdown) (3.9.0)\n",
      "Requirement already satisfied: requests[socks] in c:\\users\\andre\\appdata\\local\\packages\\pythonsoftwarefoundation.python.3.10_qbz5n2kfra8p0\\localcache\\local-packages\\python310\\site-packages (from gdown) (2.28.2)\n",
      "Requirement already satisfied: six in c:\\users\\andre\\appdata\\local\\packages\\pythonsoftwarefoundation.python.3.10_qbz5n2kfra8p0\\localcache\\local-packages\\python310\\site-packages (from gdown) (1.16.0)\n",
      "Requirement already satisfied: tqdm in c:\\users\\andre\\appdata\\local\\packages\\pythonsoftwarefoundation.python.3.10_qbz5n2kfra8p0\\localcache\\local-packages\\python310\\site-packages (from gdown) (4.64.1)\n",
      "Requirement already satisfied: beautifulsoup4 in c:\\users\\andre\\appdata\\local\\packages\\pythonsoftwarefoundation.python.3.10_qbz5n2kfra8p0\\localcache\\local-packages\\python310\\site-packages (from gdown) (4.11.2)\n",
      "Requirement already satisfied: urllib3<2,>=1.26.2 in c:\\users\\andre\\appdata\\local\\packages\\pythonsoftwarefoundation.python.3.10_qbz5n2kfra8p0\\localcache\\local-packages\\python310\\site-packages (from elastic-transport<9,>=8->elasticsearch) (1.26.12)\n",
      "Requirement already satisfied: certifi in c:\\users\\andre\\appdata\\local\\packages\\pythonsoftwarefoundation.python.3.10_qbz5n2kfra8p0\\localcache\\local-packages\\python310\\site-packages (from elastic-transport<9,>=8->elasticsearch) (2022.6.15)\n",
      "Requirement already satisfied: soupsieve>1.2 in c:\\users\\andre\\appdata\\local\\packages\\pythonsoftwarefoundation.python.3.10_qbz5n2kfra8p0\\localcache\\local-packages\\python310\\site-packages (from beautifulsoup4->gdown) (2.4)\n",
      "Requirement already satisfied: charset-normalizer<4,>=2 in c:\\users\\andre\\appdata\\local\\packages\\pythonsoftwarefoundation.python.3.10_qbz5n2kfra8p0\\localcache\\local-packages\\python310\\site-packages (from requests[socks]->gdown) (2.1.1)\n",
      "Requirement already satisfied: idna<4,>=2.5 in c:\\users\\andre\\appdata\\local\\packages\\pythonsoftwarefoundation.python.3.10_qbz5n2kfra8p0\\localcache\\local-packages\\python310\\site-packages (from requests[socks]->gdown) (3.3)\n",
      "Requirement already satisfied: PySocks!=1.5.7,>=1.5.6 in c:\\users\\andre\\appdata\\local\\packages\\pythonsoftwarefoundation.python.3.10_qbz5n2kfra8p0\\localcache\\local-packages\\python310\\site-packages (from requests[socks]->gdown) (1.7.1)\n",
      "Requirement already satisfied: colorama in c:\\users\\andre\\appdata\\local\\packages\\pythonsoftwarefoundation.python.3.10_qbz5n2kfra8p0\\localcache\\local-packages\\python310\\site-packages (from tqdm->gdown) (0.4.5)\n",
      "Note: you may need to restart the kernel to use updated packages.\n"
     ]
    },
    {
     "name": "stderr",
     "output_type": "stream",
     "text": [
      "\n",
      "[notice] A new release of pip is available: 23.1.2 -> 23.3.1\n",
      "[notice] To update, run: C:\\Users\\andre\\AppData\\Local\\Microsoft\\WindowsApps\\PythonSoftwareFoundation.Python.3.10_qbz5n2kfra8p0\\python.exe -m pip install --upgrade pip\n"
     ]
    }
   ],
   "source": [
    "%pip install elasticsearch gdown"
   ]
  },
  {
   "cell_type": "markdown",
   "id": "0335521e-0866-4d4c-b460-501779bdbfd5",
   "metadata": {},
   "source": [
    "## Setting up the Elasticsearch"
   ]
  },
  {
   "cell_type": "code",
   "execution_count": 2,
   "id": "85059e35-63c5-459c-a6e9-af73ef07de66",
   "metadata": {},
   "outputs": [
    {
     "data": {
      "text/plain": [
       "ObjectApiResponse({'name': 'es-node', 'cluster_name': 'tdt4117-ir-data-cluster', 'cluster_uuid': 'iRATYbcjQ8qoqJSg4qqxqg', 'version': {'number': '8.4.2', 'build_flavor': 'default', 'build_type': 'docker', 'build_hash': '89f8c6d8429db93b816403ee75e5c270b43a940a', 'build_date': '2022-09-14T16:26:04.382547801Z', 'build_snapshot': False, 'lucene_version': '9.3.0', 'minimum_wire_compatibility_version': '7.17.0', 'minimum_index_compatibility_version': '7.0.0'}, 'tagline': 'You Know, for Search'})"
      ]
     },
     "execution_count": 2,
     "metadata": {},
     "output_type": "execute_result"
    }
   ],
   "source": [
    "from datetime import datetime\n",
    "from elasticsearch import Elasticsearch\n",
    "\n",
    "ELASTIC_PASSWORD = \"p2iFCHUbC7ze1QoIMVw\"\n",
    "\n",
    "es = Elasticsearch(\"http://localhost:9200\",\n",
    "                    basic_auth=(\"elastic\", ELASTIC_PASSWORD))\n",
    "\n",
    "es.info()"
   ]
  },
  {
   "cell_type": "markdown",
   "id": "e4ceb822-d6d1-43ba-b2e2-dfb31c297952",
   "metadata": {},
   "source": [
    "## Setting up the documents"
   ]
  },
  {
   "cell_type": "code",
   "execution_count": 3,
   "id": "bd2abdb4-a966-43de-bbc6-d32041c1f698",
   "metadata": {},
   "outputs": [
    {
     "name": "stdout",
     "output_type": "stream",
     "text": [
      "Access denied with the following error:\n"
     ]
    },
    {
     "name": "stderr",
     "output_type": "stream",
     "text": [
      "\n",
      " \tCannot retrieve the public link of the file. You may need to change\n",
      "\tthe permission to 'Anyone with the link', or have had many accesses. \n",
      "\n",
      "You may still be able to access the file from the browser:\n",
      "\n",
      "\t https://drive.google.com/uc?id=10OwgK91e0lNRsrAV31sSJu7KJUujBTnE \n",
      "\n"
     ]
    }
   ],
   "source": [
    "# Downloading the data\n",
    "\"\"\"\n",
    "The data is uploaded at a google drive directory, by running this code box, \n",
    "the data will be downloaded and you will have access to it at\n",
    "(enron_short/maildir)\n",
    "\"\"\"\n",
    "import gdown\n",
    "\n",
    "googleDriveURL = \"https://drive.google.com/file/d/10OwgK91e0lNRsrAV31sSJu7KJUujBTnE/view?usp=sharing\"\n",
    "output = 'enron_short.tar.gz'\n",
    "gdown.download(googleDriveURL, output, quiet=False, fuzzy=True)"
   ]
  },
  {
   "cell_type": "code",
   "execution_count": 6,
   "id": "28e9a89b-1b35-44ea-8b64-331b365f4acc",
   "metadata": {},
   "outputs": [],
   "source": [
    "# check if the directory exists\n",
    "from os import path\n",
    "\n",
    "zipfile_path = \"enron_short.tar.gz\"\n",
    "if not path.isfile(zipfile_path):\n",
    "    print(\"the zipfile is not here, please ensure you download it first.\")"
   ]
  },
  {
   "cell_type": "code",
   "execution_count": 2,
   "id": "616ed7b9-b2e4-46e7-9c2f-54679c3f9b8a",
   "metadata": {},
   "outputs": [],
   "source": [
    "!tar xf enron_short.tar.gz"
   ]
  },
  {
   "cell_type": "code",
   "execution_count": 5,
   "id": "747eb047-8aab-47c4-b244-ee73eb984930",
   "metadata": {},
   "outputs": [],
   "source": [
    "# check if the directory exists\n",
    "from os import path\n",
    "\n",
    "documents_path = r\"enron_short/maildir\"\n",
    "if not path.exists(documents_path):\n",
    "    print(\"the directory is not here, please ensure you have the documnets first.\")"
   ]
  },
  {
   "cell_type": "markdown",
   "id": "b2a4210f-ede3-476d-82e3-bad55c8c1b9b",
   "metadata": {},
   "source": [
    "## Your Code:"
   ]
  },
  {
   "cell_type": "markdown",
   "id": "178d5c14",
   "metadata": {},
   "source": [
    "### Fix for windows:\n",
    "Windows doesn't like the filenames used by enron. Use MSYS to change all filenames to have suffix '.txt' with the following command:\n",
    "\n",
    "```bash\n",
    "cd enron_short\n",
    "find . -type f -exec bash -c 'mv \"$1\" \"${1%.*}.txt\"' _ {} \\;\n",
    "find . -type f -name *. -exec bash -c 'mv \"$1\" \"${1%.*}.txt\"' _ {} \\;\n",
    "``` "
   ]
  },
  {
   "cell_type": "code",
   "execution_count": 40,
   "id": "a3efb897",
   "metadata": {},
   "outputs": [
    {
     "name": "stdout",
     "output_type": "stream",
     "text": [
      "./enron_short/maildir/allen-p/all_documents/1. ./enron_short/maildir/allen-p/all_documents/1\n"
     ]
    },
    {
     "ename": "FileNotFoundError",
     "evalue": "[WinError 2] The system cannot find the file specified: './enron_short/maildir/allen-p/all_documents/1.' -> './enron_short/maildir/allen-p/all_documents/1'",
     "output_type": "error",
     "traceback": [
      "\u001b[1;31m---------------------------------------------------------------------------\u001b[0m",
      "\u001b[1;31mFileNotFoundError\u001b[0m                         Traceback (most recent call last)",
      "\u001b[1;32mc:\\Users\\andre\\OneDrive\\uni\\7.semester\\Informasjonsgjenfinning\\assignments\\assignment-4\\elk_base_enron_template.ipynb Cell 11\u001b[0m line \u001b[0;36m<cell line: 43>\u001b[1;34m()\u001b[0m\n\u001b[0;32m     <a href='vscode-notebook-cell:/c%3A/Users/andre/OneDrive/uni/7.semester/Informasjonsgjenfinning/assignments/assignment-4/elk_base_enron_template.ipynb#X15sZmlsZQ%3D%3D?line=39'>40</a>\u001b[0m     \u001b[39mreturn\u001b[39;00m corpus\n\u001b[0;32m     <a href='vscode-notebook-cell:/c%3A/Users/andre/OneDrive/uni/7.semester/Informasjonsgjenfinning/assignments/assignment-4/elk_base_enron_template.ipynb#X15sZmlsZQ%3D%3D?line=41'>42</a>\u001b[0m base \u001b[39m=\u001b[39m \u001b[39m\"\u001b[39m\u001b[39m./enron_short/maildir/\u001b[39m\u001b[39m\"\u001b[39m\n\u001b[1;32m---> <a href='vscode-notebook-cell:/c%3A/Users/andre/OneDrive/uni/7.semester/Informasjonsgjenfinning/assignments/assignment-4/elk_base_enron_template.ipynb#X15sZmlsZQ%3D%3D?line=42'>43</a>\u001b[0m corpus \u001b[39m=\u001b[39m find_file(base)\n\u001b[0;32m     <a href='vscode-notebook-cell:/c%3A/Users/andre/OneDrive/uni/7.semester/Informasjonsgjenfinning/assignments/assignment-4/elk_base_enron_template.ipynb#X15sZmlsZQ%3D%3D?line=43'>44</a>\u001b[0m \u001b[39mlen\u001b[39m(corpus)\n",
      "\u001b[1;32mc:\\Users\\andre\\OneDrive\\uni\\7.semester\\Informasjonsgjenfinning\\assignments\\assignment-4\\elk_base_enron_template.ipynb Cell 11\u001b[0m line \u001b[0;36mfind_file\u001b[1;34m(base)\u001b[0m\n\u001b[0;32m      <a href='vscode-notebook-cell:/c%3A/Users/andre/OneDrive/uni/7.semester/Informasjonsgjenfinning/assignments/assignment-4/elk_base_enron_template.ipynb#X15sZmlsZQ%3D%3D?line=3'>4</a>\u001b[0m \u001b[39mfor\u001b[39;00m path \u001b[39min\u001b[39;00m paths:\n\u001b[0;32m      <a href='vscode-notebook-cell:/c%3A/Users/andre/OneDrive/uni/7.semester/Informasjonsgjenfinning/assignments/assignment-4/elk_base_enron_template.ipynb#X15sZmlsZQ%3D%3D?line=4'>5</a>\u001b[0m     \u001b[39m# If it is a directory, traverse by recursion\u001b[39;00m\n\u001b[0;32m      <a href='vscode-notebook-cell:/c%3A/Users/andre/OneDrive/uni/7.semester/Informasjonsgjenfinning/assignments/assignment-4/elk_base_enron_template.ipynb#X15sZmlsZQ%3D%3D?line=5'>6</a>\u001b[0m     \u001b[39mif\u001b[39;00m os\u001b[39m.\u001b[39mpath\u001b[39m.\u001b[39misdir(base \u001b[39m+\u001b[39m path):\n\u001b[1;32m----> <a href='vscode-notebook-cell:/c%3A/Users/andre/OneDrive/uni/7.semester/Informasjonsgjenfinning/assignments/assignment-4/elk_base_enron_template.ipynb#X15sZmlsZQ%3D%3D?line=6'>7</a>\u001b[0m         corpus\u001b[39m.\u001b[39mextend(find_file(base \u001b[39m+\u001b[39;49m path \u001b[39m+\u001b[39;49m \u001b[39m\"\u001b[39;49m\u001b[39m/\u001b[39;49m\u001b[39m\"\u001b[39;49m))\n\u001b[0;32m      <a href='vscode-notebook-cell:/c%3A/Users/andre/OneDrive/uni/7.semester/Informasjonsgjenfinning/assignments/assignment-4/elk_base_enron_template.ipynb#X15sZmlsZQ%3D%3D?line=7'>8</a>\u001b[0m     \u001b[39m# It is a file:\u001b[39;00m\n\u001b[0;32m      <a href='vscode-notebook-cell:/c%3A/Users/andre/OneDrive/uni/7.semester/Informasjonsgjenfinning/assignments/assignment-4/elk_base_enron_template.ipynb#X15sZmlsZQ%3D%3D?line=8'>9</a>\u001b[0m     \u001b[39melif\u001b[39;00m os\u001b[39m.\u001b[39mpath\u001b[39m.\u001b[39misfile(base \u001b[39m+\u001b[39m path):\n",
      "\u001b[1;32mc:\\Users\\andre\\OneDrive\\uni\\7.semester\\Informasjonsgjenfinning\\assignments\\assignment-4\\elk_base_enron_template.ipynb Cell 11\u001b[0m line \u001b[0;36mfind_file\u001b[1;34m(base)\u001b[0m\n\u001b[0;32m      <a href='vscode-notebook-cell:/c%3A/Users/andre/OneDrive/uni/7.semester/Informasjonsgjenfinning/assignments/assignment-4/elk_base_enron_template.ipynb#X15sZmlsZQ%3D%3D?line=3'>4</a>\u001b[0m \u001b[39mfor\u001b[39;00m path \u001b[39min\u001b[39;00m paths:\n\u001b[0;32m      <a href='vscode-notebook-cell:/c%3A/Users/andre/OneDrive/uni/7.semester/Informasjonsgjenfinning/assignments/assignment-4/elk_base_enron_template.ipynb#X15sZmlsZQ%3D%3D?line=4'>5</a>\u001b[0m     \u001b[39m# If it is a directory, traverse by recursion\u001b[39;00m\n\u001b[0;32m      <a href='vscode-notebook-cell:/c%3A/Users/andre/OneDrive/uni/7.semester/Informasjonsgjenfinning/assignments/assignment-4/elk_base_enron_template.ipynb#X15sZmlsZQ%3D%3D?line=5'>6</a>\u001b[0m     \u001b[39mif\u001b[39;00m os\u001b[39m.\u001b[39mpath\u001b[39m.\u001b[39misdir(base \u001b[39m+\u001b[39m path):\n\u001b[1;32m----> <a href='vscode-notebook-cell:/c%3A/Users/andre/OneDrive/uni/7.semester/Informasjonsgjenfinning/assignments/assignment-4/elk_base_enron_template.ipynb#X15sZmlsZQ%3D%3D?line=6'>7</a>\u001b[0m         corpus\u001b[39m.\u001b[39mextend(find_file(base \u001b[39m+\u001b[39;49m path \u001b[39m+\u001b[39;49m \u001b[39m\"\u001b[39;49m\u001b[39m/\u001b[39;49m\u001b[39m\"\u001b[39;49m))\n\u001b[0;32m      <a href='vscode-notebook-cell:/c%3A/Users/andre/OneDrive/uni/7.semester/Informasjonsgjenfinning/assignments/assignment-4/elk_base_enron_template.ipynb#X15sZmlsZQ%3D%3D?line=7'>8</a>\u001b[0m     \u001b[39m# It is a file:\u001b[39;00m\n\u001b[0;32m      <a href='vscode-notebook-cell:/c%3A/Users/andre/OneDrive/uni/7.semester/Informasjonsgjenfinning/assignments/assignment-4/elk_base_enron_template.ipynb#X15sZmlsZQ%3D%3D?line=8'>9</a>\u001b[0m     \u001b[39melif\u001b[39;00m os\u001b[39m.\u001b[39mpath\u001b[39m.\u001b[39misfile(base \u001b[39m+\u001b[39m path):\n",
      "\u001b[1;32mc:\\Users\\andre\\OneDrive\\uni\\7.semester\\Informasjonsgjenfinning\\assignments\\assignment-4\\elk_base_enron_template.ipynb Cell 11\u001b[0m line \u001b[0;36mfind_file\u001b[1;34m(base)\u001b[0m\n\u001b[0;32m     <a href='vscode-notebook-cell:/c%3A/Users/andre/OneDrive/uni/7.semester/Informasjonsgjenfinning/assignments/assignment-4/elk_base_enron_template.ipynb#X15sZmlsZQ%3D%3D?line=22'>23</a>\u001b[0m         new_path \u001b[39m=\u001b[39m os\u001b[39m.\u001b[39mpath\u001b[39m.\u001b[39mjoin(base, new_filename)\n\u001b[0;32m     <a href='vscode-notebook-cell:/c%3A/Users/andre/OneDrive/uni/7.semester/Informasjonsgjenfinning/assignments/assignment-4/elk_base_enron_template.ipynb#X15sZmlsZQ%3D%3D?line=23'>24</a>\u001b[0m         \u001b[39mprint\u001b[39m(old_path, new_path)\n\u001b[1;32m---> <a href='vscode-notebook-cell:/c%3A/Users/andre/OneDrive/uni/7.semester/Informasjonsgjenfinning/assignments/assignment-4/elk_base_enron_template.ipynb#X15sZmlsZQ%3D%3D?line=24'>25</a>\u001b[0m         os\u001b[39m.\u001b[39;49mrename(old_path, new_path)\n\u001b[0;32m     <a href='vscode-notebook-cell:/c%3A/Users/andre/OneDrive/uni/7.semester/Informasjonsgjenfinning/assignments/assignment-4/elk_base_enron_template.ipynb#X15sZmlsZQ%3D%3D?line=28'>29</a>\u001b[0m         \u001b[39m# print(short_filename)\u001b[39;00m\n\u001b[0;32m     <a href='vscode-notebook-cell:/c%3A/Users/andre/OneDrive/uni/7.semester/Informasjonsgjenfinning/assignments/assignment-4/elk_base_enron_template.ipynb#X15sZmlsZQ%3D%3D?line=29'>30</a>\u001b[0m \n\u001b[0;32m     <a href='vscode-notebook-cell:/c%3A/Users/andre/OneDrive/uni/7.semester/Informasjonsgjenfinning/assignments/assignment-4/elk_base_enron_template.ipynb#X15sZmlsZQ%3D%3D?line=30'>31</a>\u001b[0m         \u001b[39m# full_path = os.path.join(base + path)\u001b[39;00m\n\u001b[1;32m   (...)\u001b[0m\n\u001b[0;32m     <a href='vscode-notebook-cell:/c%3A/Users/andre/OneDrive/uni/7.semester/Informasjonsgjenfinning/assignments/assignment-4/elk_base_enron_template.ipynb#X15sZmlsZQ%3D%3D?line=37'>38</a>\u001b[0m         \u001b[39m# with open(base + path) as f:\u001b[39;00m\n\u001b[0;32m     <a href='vscode-notebook-cell:/c%3A/Users/andre/OneDrive/uni/7.semester/Informasjonsgjenfinning/assignments/assignment-4/elk_base_enron_template.ipynb#X15sZmlsZQ%3D%3D?line=38'>39</a>\u001b[0m         \u001b[39m#     corpus.append(f.read())\u001b[39;00m\n\u001b[0;32m     <a href='vscode-notebook-cell:/c%3A/Users/andre/OneDrive/uni/7.semester/Informasjonsgjenfinning/assignments/assignment-4/elk_base_enron_template.ipynb#X15sZmlsZQ%3D%3D?line=39'>40</a>\u001b[0m \u001b[39mreturn\u001b[39;00m corpus\n",
      "\u001b[1;31mFileNotFoundError\u001b[0m: [WinError 2] The system cannot find the file specified: './enron_short/maildir/allen-p/all_documents/1.' -> './enron_short/maildir/allen-p/all_documents/1'"
     ]
    }
   ],
   "source": [
    "import os\n",
    "def find_file(base): \n",
    "    corpus = []\n",
    "    paths = os.listdir(base)\n",
    "    for path in paths:\n",
    "        # If it is a directory, traverse by recursion:\n",
    "        if os.path.isdir(base + path):\n",
    "            new_corpus = find_file(base + path + \"/\")\n",
    "            corpus.extend(new_corpus)\n",
    "        # It is a file, READ IT:\n",
    "        elif os.path.isfile(base + path):\n",
    "            with open(base + path) as f:\n",
    "                corpus.append(f.read())\n",
    "        else:\n",
    "            print(base + path)\n",
    "\n",
    "    return corpus\n",
    "\n",
    "base = \"./enron_short/maildir/\"\n",
    "corpus = find_file(base)\n",
    "len(corpus)"
   ]
  },
  {
   "cell_type": "code",
   "execution_count": 28,
   "id": "9dbbdf96",
   "metadata": {},
   "outputs": [
    {
     "name": "stdout",
     "output_type": "stream",
     "text": [
      "c:\\Users\\andre\\OneDrive\\uni\\7.semester\\Informasjonsgjenfinning\\assignments\\assignment-4\\enron_short\\maildir\\beck-s\\all_documents\\1308\n"
     ]
    },
    {
     "ename": "FileNotFoundError",
     "evalue": "[Errno 2] No such file or directory: 'c:\\\\Users\\\\andre\\\\OneDrive\\\\uni\\\\7.semester\\\\Informasjonsgjenfinning\\\\assignments\\\\assignment-4\\\\enron_short\\\\maildir\\\\beck-s\\\\all_documents\\\\1308.'",
     "output_type": "error",
     "traceback": [
      "\u001b[1;31m---------------------------------------------------------------------------\u001b[0m",
      "\u001b[1;31mFileNotFoundError\u001b[0m                         Traceback (most recent call last)",
      "\u001b[1;32mc:\\Users\\andre\\OneDrive\\uni\\7.semester\\Informasjonsgjenfinning\\assignments\\assignment-4\\elk_base_enron_template.ipynb Cell 12\u001b[0m line \u001b[0;36m<cell line: 3>\u001b[1;34m()\u001b[0m\n\u001b[0;32m      <a href='vscode-notebook-cell:/c%3A/Users/andre/OneDrive/uni/7.semester/Informasjonsgjenfinning/assignments/assignment-4/elk_base_enron_template.ipynb#X16sZmlsZQ%3D%3D?line=0'>1</a>\u001b[0m base \u001b[39m=\u001b[39m os\u001b[39m.\u001b[39mpath\u001b[39m.\u001b[39mabspath(\u001b[39m\"\u001b[39m\u001b[39m./enron_short/maildir/beck-s/all_documents/1308.\u001b[39m\u001b[39m\"\u001b[39m)\n\u001b[0;32m      <a href='vscode-notebook-cell:/c%3A/Users/andre/OneDrive/uni/7.semester/Informasjonsgjenfinning/assignments/assignment-4/elk_base_enron_template.ipynb#X16sZmlsZQ%3D%3D?line=1'>2</a>\u001b[0m \u001b[39mprint\u001b[39m(base)\n\u001b[1;32m----> <a href='vscode-notebook-cell:/c%3A/Users/andre/OneDrive/uni/7.semester/Informasjonsgjenfinning/assignments/assignment-4/elk_base_enron_template.ipynb#X16sZmlsZQ%3D%3D?line=2'>3</a>\u001b[0m \u001b[39mwith\u001b[39;00m \u001b[39mopen\u001b[39;49m(base\u001b[39m+\u001b[39;49m\u001b[39m\"\u001b[39;49m\u001b[39m.\u001b[39;49m\u001b[39m\"\u001b[39;49m) \u001b[39mas\u001b[39;00m f:\n\u001b[0;32m      <a href='vscode-notebook-cell:/c%3A/Users/andre/OneDrive/uni/7.semester/Informasjonsgjenfinning/assignments/assignment-4/elk_base_enron_template.ipynb#X16sZmlsZQ%3D%3D?line=3'>4</a>\u001b[0m     \u001b[39mprint\u001b[39m(f\u001b[39m.\u001b[39mread())\n",
      "\u001b[1;31mFileNotFoundError\u001b[0m: [Errno 2] No such file or directory: 'c:\\\\Users\\\\andre\\\\OneDrive\\\\uni\\\\7.semester\\\\Informasjonsgjenfinning\\\\assignments\\\\assignment-4\\\\enron_short\\\\maildir\\\\beck-s\\\\all_documents\\\\1308.'"
     ]
    }
   ],
   "source": [
    "base = os.path.abspath(\"./enron_short/maildir/beck-s/all_documents/1308.\")\n",
    "print(base)\n",
    "with open(base) as f:\n",
    "    print(f.read())"
   ]
  },
  {
   "cell_type": "code",
   "execution_count": null,
   "id": "e0a0ff0f-2711-46ad-8ec9-2bb422353b5f",
   "metadata": {},
   "outputs": [],
   "source": [
    "# Query for \"Norwegian and University and Science and Technology” and \"Norwegian University Science Technology\""
   ]
  },
  {
   "cell_type": "code",
   "execution_count": null,
   "id": "a545c678-aa0f-4e8b-b8d3-a0ecd6c4e802",
   "metadata": {},
   "outputs": [],
   "source": []
  }
 ],
 "metadata": {
  "kernelspec": {
   "display_name": "Python 3 (ipykernel)",
   "language": "python",
   "name": "python3"
  },
  "language_info": {
   "codemirror_mode": {
    "name": "ipython",
    "version": 3
   },
   "file_extension": ".py",
   "mimetype": "text/x-python",
   "name": "python",
   "nbconvert_exporter": "python",
   "pygments_lexer": "ipython3",
   "version": "3.10.11"
  }
 },
 "nbformat": 4,
 "nbformat_minor": 5
}

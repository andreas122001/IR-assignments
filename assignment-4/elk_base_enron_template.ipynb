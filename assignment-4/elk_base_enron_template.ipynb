{
 "cells": [
  {
   "cell_type": "code",
   "execution_count": 1,
   "id": "05ea4f66-2eb4-495f-9d43-f908d9b8bdec",
   "metadata": {},
   "outputs": [
    {
     "name": "stdout",
     "output_type": "stream",
     "text": [
      "Collecting elasticsearch\n",
      "  Obtaining dependency information for elasticsearch from https://files.pythonhosted.org/packages/8c/35/78af3c610a3e354737bcd3723af4f344a32f2e721014aed1b1e47b19a97d/elasticsearch-8.10.1-py3-none-any.whl.metadata\n",
      "  Downloading elasticsearch-8.10.1-py3-none-any.whl.metadata (5.1 kB)\n",
      "Collecting gdown\n",
      "  Using cached gdown-4.7.1-py3-none-any.whl (15 kB)\n",
      "Collecting elastic-transport<9,>=8 (from elasticsearch)\n",
      "  Obtaining dependency information for elastic-transport<9,>=8 from https://files.pythonhosted.org/packages/45/e3/e1bc11677b89030c4ffbf464177b64c533df85cde655e3ecc66bda99b3e5/elastic_transport-8.10.0-py3-none-any.whl.metadata\n",
      "  Downloading elastic_transport-8.10.0-py3-none-any.whl.metadata (3.5 kB)\n",
      "Requirement already satisfied: filelock in c:\\users\\andre\\appdata\\local\\packages\\pythonsoftwarefoundation.python.3.10_qbz5n2kfra8p0\\localcache\\local-packages\\python310\\site-packages (from gdown) (3.9.0)\n",
      "Requirement already satisfied: requests[socks] in c:\\users\\andre\\appdata\\local\\packages\\pythonsoftwarefoundation.python.3.10_qbz5n2kfra8p0\\localcache\\local-packages\\python310\\site-packages (from gdown) (2.28.1)\n",
      "Requirement already satisfied: six in c:\\users\\andre\\appdata\\local\\packages\\pythonsoftwarefoundation.python.3.10_qbz5n2kfra8p0\\localcache\\local-packages\\python310\\site-packages (from gdown) (1.16.0)\n",
      "Requirement already satisfied: tqdm in c:\\users\\andre\\appdata\\local\\packages\\pythonsoftwarefoundation.python.3.10_qbz5n2kfra8p0\\localcache\\local-packages\\python310\\site-packages (from gdown) (4.66.1)\n",
      "Requirement already satisfied: beautifulsoup4 in c:\\users\\andre\\appdata\\local\\packages\\pythonsoftwarefoundation.python.3.10_qbz5n2kfra8p0\\localcache\\local-packages\\python310\\site-packages (from gdown) (4.12.2)\n",
      "Requirement already satisfied: urllib3<3,>=1.26.2 in c:\\users\\andre\\appdata\\local\\packages\\pythonsoftwarefoundation.python.3.10_qbz5n2kfra8p0\\localcache\\local-packages\\python310\\site-packages (from elastic-transport<9,>=8->elasticsearch) (1.26.13)\n",
      "Requirement already satisfied: certifi in c:\\users\\andre\\appdata\\local\\packages\\pythonsoftwarefoundation.python.3.10_qbz5n2kfra8p0\\localcache\\local-packages\\python310\\site-packages (from elastic-transport<9,>=8->elasticsearch) (2022.12.7)\n",
      "Requirement already satisfied: soupsieve>1.2 in c:\\users\\andre\\appdata\\local\\packages\\pythonsoftwarefoundation.python.3.10_qbz5n2kfra8p0\\localcache\\local-packages\\python310\\site-packages (from beautifulsoup4->gdown) (2.5)\n",
      "Requirement already satisfied: charset-normalizer<3,>=2 in c:\\users\\andre\\appdata\\local\\packages\\pythonsoftwarefoundation.python.3.10_qbz5n2kfra8p0\\localcache\\local-packages\\python310\\site-packages (from requests[socks]->gdown) (2.1.1)\n",
      "Requirement already satisfied: idna<4,>=2.5 in c:\\users\\andre\\appdata\\local\\packages\\pythonsoftwarefoundation.python.3.10_qbz5n2kfra8p0\\localcache\\local-packages\\python310\\site-packages (from requests[socks]->gdown) (3.4)\n",
      "Collecting PySocks!=1.5.7,>=1.5.6 (from requests[socks]->gdown)\n",
      "  Using cached PySocks-1.7.1-py3-none-any.whl (16 kB)\n",
      "Requirement already satisfied: colorama in c:\\users\\andre\\appdata\\local\\packages\\pythonsoftwarefoundation.python.3.10_qbz5n2kfra8p0\\localcache\\local-packages\\python310\\site-packages (from tqdm->gdown) (0.4.6)\n",
      "Downloading elasticsearch-8.10.1-py3-none-any.whl (409 kB)\n",
      "   ---------------------------------------- 0.0/409.3 kB ? eta -:--:--\n",
      "   ----------------------------------- --- 368.6/409.3 kB 11.6 MB/s eta 0:00:01\n",
      "   ---------------------------------------- 409.3/409.3 kB 8.7 MB/s eta 0:00:00\n",
      "Downloading elastic_transport-8.10.0-py3-none-any.whl (59 kB)\n",
      "   ---------------------------------------- 0.0/59.8 kB ? eta -:--:--\n",
      "   ---------------------------------------- 59.8/59.8 kB 3.1 MB/s eta 0:00:00\n",
      "Installing collected packages: PySocks, elastic-transport, elasticsearch, gdown\n",
      "Successfully installed PySocks-1.7.1 elastic-transport-8.10.0 elasticsearch-8.10.1 gdown-4.7.1\n",
      "Note: you may need to restart the kernel to use updated packages.\n"
     ]
    },
    {
     "name": "stderr",
     "output_type": "stream",
     "text": [
      "\n",
      "[notice] A new release of pip is available: 23.2.1 -> 23.3.1\n",
      "[notice] To update, run: C:\\Users\\andre\\AppData\\Local\\Microsoft\\WindowsApps\\PythonSoftwareFoundation.Python.3.10_qbz5n2kfra8p0\\python.exe -m pip install --upgrade pip\n"
     ]
    }
   ],
   "source": [
    "%pip install elasticsearch gdown"
   ]
  },
  {
   "cell_type": "markdown",
   "id": "0335521e-0866-4d4c-b460-501779bdbfd5",
   "metadata": {},
   "source": [
    "## Setting up the Elasticsearch"
   ]
  },
  {
   "cell_type": "code",
   "execution_count": 3,
   "id": "85059e35-63c5-459c-a6e9-af73ef07de66",
   "metadata": {},
   "outputs": [
    {
     "ename": "ConnectionError",
     "evalue": "Connection error caused by: ConnectionError(Connection error caused by: NewConnectionError(<urllib3.connection.HTTPConnection object at 0x0000028DC55288E0>: Failed to establish a new connection: [Errno 11001] getaddrinfo failed))",
     "output_type": "error",
     "traceback": [
      "\u001b[1;31m---------------------------------------------------------------------------\u001b[0m",
      "\u001b[1;31mConnectionError\u001b[0m                           Traceback (most recent call last)",
      "\u001b[1;32mc:\\Users\\andre\\OneDrive\\uni\\7.semester\\Informasjonsgjenfinning\\assignment-4\\elk_base_enron_template.ipynb Cell 3\u001b[0m line \u001b[0;36m9\n\u001b[0;32m      <a href='vscode-notebook-cell:/c%3A/Users/andre/OneDrive/uni/7.semester/Informasjonsgjenfinning/assignment-4/elk_base_enron_template.ipynb#W2sZmlsZQ%3D%3D?line=3'>4</a>\u001b[0m ELASTIC_PASSWORD \u001b[39m=\u001b[39m \u001b[39m\"\u001b[39m\u001b[39mp2iFCHUbC7ze1QoIMVw\u001b[39m\u001b[39m\"\u001b[39m\n\u001b[0;32m      <a href='vscode-notebook-cell:/c%3A/Users/andre/OneDrive/uni/7.semester/Informasjonsgjenfinning/assignment-4/elk_base_enron_template.ipynb#W2sZmlsZQ%3D%3D?line=5'>6</a>\u001b[0m es \u001b[39m=\u001b[39m Elasticsearch(\u001b[39m\"\u001b[39m\u001b[39mhttp://elasticsearch:9200\u001b[39m\u001b[39m\"\u001b[39m,\n\u001b[0;32m      <a href='vscode-notebook-cell:/c%3A/Users/andre/OneDrive/uni/7.semester/Informasjonsgjenfinning/assignment-4/elk_base_enron_template.ipynb#W2sZmlsZQ%3D%3D?line=6'>7</a>\u001b[0m                     basic_auth\u001b[39m=\u001b[39m(\u001b[39m\"\u001b[39m\u001b[39melastic\u001b[39m\u001b[39m\"\u001b[39m, ELASTIC_PASSWORD))\n\u001b[1;32m----> <a href='vscode-notebook-cell:/c%3A/Users/andre/OneDrive/uni/7.semester/Informasjonsgjenfinning/assignment-4/elk_base_enron_template.ipynb#W2sZmlsZQ%3D%3D?line=8'>9</a>\u001b[0m es\u001b[39m.\u001b[39;49minfo()\n",
      "File \u001b[1;32m~\\AppData\\Local\\Packages\\PythonSoftwareFoundation.Python.3.10_qbz5n2kfra8p0\\LocalCache\\local-packages\\Python310\\site-packages\\elasticsearch\\_sync\\client\\utils.py:402\u001b[0m, in \u001b[0;36m_rewrite_parameters.<locals>.wrapper.<locals>.wrapped\u001b[1;34m(*args, **kwargs)\u001b[0m\n\u001b[0;32m    399\u001b[0m         \u001b[39mexcept\u001b[39;00m \u001b[39mKeyError\u001b[39;00m:\n\u001b[0;32m    400\u001b[0m             \u001b[39mpass\u001b[39;00m\n\u001b[1;32m--> 402\u001b[0m \u001b[39mreturn\u001b[39;00m api(\u001b[39m*\u001b[39margs, \u001b[39m*\u001b[39m\u001b[39m*\u001b[39mkwargs)\n",
      "File \u001b[1;32m~\\AppData\\Local\\Packages\\PythonSoftwareFoundation.Python.3.10_qbz5n2kfra8p0\\LocalCache\\local-packages\\Python310\\site-packages\\elasticsearch\\_sync\\client\\__init__.py:2229\u001b[0m, in \u001b[0;36mElasticsearch.info\u001b[1;34m(self, error_trace, filter_path, human, pretty)\u001b[0m\n\u001b[0;32m   2227\u001b[0m     __query[\u001b[39m\"\u001b[39m\u001b[39mpretty\u001b[39m\u001b[39m\"\u001b[39m] \u001b[39m=\u001b[39m pretty\n\u001b[0;32m   2228\u001b[0m __headers \u001b[39m=\u001b[39m {\u001b[39m\"\u001b[39m\u001b[39maccept\u001b[39m\u001b[39m\"\u001b[39m: \u001b[39m\"\u001b[39m\u001b[39mapplication/json\u001b[39m\u001b[39m\"\u001b[39m}\n\u001b[1;32m-> 2229\u001b[0m \u001b[39mreturn\u001b[39;00m \u001b[39mself\u001b[39;49m\u001b[39m.\u001b[39;49mperform_request(  \u001b[39m# type: ignore[return-value]\u001b[39;49;00m\n\u001b[0;32m   2230\u001b[0m     \u001b[39m\"\u001b[39;49m\u001b[39mGET\u001b[39;49m\u001b[39m\"\u001b[39;49m, __path, params\u001b[39m=\u001b[39;49m__query, headers\u001b[39m=\u001b[39;49m__headers\n\u001b[0;32m   2231\u001b[0m )\n",
      "File \u001b[1;32m~\\AppData\\Local\\Packages\\PythonSoftwareFoundation.Python.3.10_qbz5n2kfra8p0\\LocalCache\\local-packages\\Python310\\site-packages\\elasticsearch\\_sync\\client\\_base.py:285\u001b[0m, in \u001b[0;36mBaseClient.perform_request\u001b[1;34m(self, method, path, params, headers, body)\u001b[0m\n\u001b[0;32m    282\u001b[0m \u001b[39melse\u001b[39;00m:\n\u001b[0;32m    283\u001b[0m     target \u001b[39m=\u001b[39m path\n\u001b[1;32m--> 285\u001b[0m meta, resp_body \u001b[39m=\u001b[39m \u001b[39mself\u001b[39;49m\u001b[39m.\u001b[39;49mtransport\u001b[39m.\u001b[39;49mperform_request(\n\u001b[0;32m    286\u001b[0m     method,\n\u001b[0;32m    287\u001b[0m     target,\n\u001b[0;32m    288\u001b[0m     headers\u001b[39m=\u001b[39;49mrequest_headers,\n\u001b[0;32m    289\u001b[0m     body\u001b[39m=\u001b[39;49mbody,\n\u001b[0;32m    290\u001b[0m     request_timeout\u001b[39m=\u001b[39;49m\u001b[39mself\u001b[39;49m\u001b[39m.\u001b[39;49m_request_timeout,\n\u001b[0;32m    291\u001b[0m     max_retries\u001b[39m=\u001b[39;49m\u001b[39mself\u001b[39;49m\u001b[39m.\u001b[39;49m_max_retries,\n\u001b[0;32m    292\u001b[0m     retry_on_status\u001b[39m=\u001b[39;49m\u001b[39mself\u001b[39;49m\u001b[39m.\u001b[39;49m_retry_on_status,\n\u001b[0;32m    293\u001b[0m     retry_on_timeout\u001b[39m=\u001b[39;49m\u001b[39mself\u001b[39;49m\u001b[39m.\u001b[39;49m_retry_on_timeout,\n\u001b[0;32m    294\u001b[0m     client_meta\u001b[39m=\u001b[39;49m\u001b[39mself\u001b[39;49m\u001b[39m.\u001b[39;49m_client_meta,\n\u001b[0;32m    295\u001b[0m )\n\u001b[0;32m    297\u001b[0m \u001b[39m# HEAD with a 404 is returned as a normal response\u001b[39;00m\n\u001b[0;32m    298\u001b[0m \u001b[39m# since this is used as an 'exists' functionality.\u001b[39;00m\n\u001b[0;32m    299\u001b[0m \u001b[39mif\u001b[39;00m \u001b[39mnot\u001b[39;00m (method \u001b[39m==\u001b[39m \u001b[39m\"\u001b[39m\u001b[39mHEAD\u001b[39m\u001b[39m\"\u001b[39m \u001b[39mand\u001b[39;00m meta\u001b[39m.\u001b[39mstatus \u001b[39m==\u001b[39m \u001b[39m404\u001b[39m) \u001b[39mand\u001b[39;00m (\n\u001b[0;32m    300\u001b[0m     \u001b[39mnot\u001b[39;00m \u001b[39m200\u001b[39m \u001b[39m<\u001b[39m\u001b[39m=\u001b[39m meta\u001b[39m.\u001b[39mstatus \u001b[39m<\u001b[39m \u001b[39m299\u001b[39m\n\u001b[0;32m    301\u001b[0m     \u001b[39mand\u001b[39;00m (\n\u001b[1;32m   (...)\u001b[0m\n\u001b[0;32m    305\u001b[0m     )\n\u001b[0;32m    306\u001b[0m ):\n",
      "File \u001b[1;32m~\\AppData\\Local\\Packages\\PythonSoftwareFoundation.Python.3.10_qbz5n2kfra8p0\\LocalCache\\local-packages\\Python310\\site-packages\\elastic_transport\\_transport.py:328\u001b[0m, in \u001b[0;36mTransport.perform_request\u001b[1;34m(self, method, target, body, headers, max_retries, retry_on_status, retry_on_timeout, request_timeout, client_meta)\u001b[0m\n\u001b[0;32m    326\u001b[0m start_time \u001b[39m=\u001b[39m time\u001b[39m.\u001b[39mtime()\n\u001b[0;32m    327\u001b[0m \u001b[39mtry\u001b[39;00m:\n\u001b[1;32m--> 328\u001b[0m     meta, raw_data \u001b[39m=\u001b[39m node\u001b[39m.\u001b[39;49mperform_request(\n\u001b[0;32m    329\u001b[0m         method,\n\u001b[0;32m    330\u001b[0m         target,\n\u001b[0;32m    331\u001b[0m         body\u001b[39m=\u001b[39;49mrequest_body,\n\u001b[0;32m    332\u001b[0m         headers\u001b[39m=\u001b[39;49mrequest_headers,\n\u001b[0;32m    333\u001b[0m         request_timeout\u001b[39m=\u001b[39;49mrequest_timeout,\n\u001b[0;32m    334\u001b[0m     )\n\u001b[0;32m    335\u001b[0m     _logger\u001b[39m.\u001b[39minfo(\n\u001b[0;32m    336\u001b[0m         \u001b[39m\"\u001b[39m\u001b[39m%s\u001b[39;00m\u001b[39m \u001b[39m\u001b[39m%s\u001b[39;00m\u001b[39m%s\u001b[39;00m\u001b[39m [status:\u001b[39m\u001b[39m%s\u001b[39;00m\u001b[39m duration:\u001b[39m\u001b[39m%.3f\u001b[39;00m\u001b[39ms]\u001b[39m\u001b[39m\"\u001b[39m\n\u001b[0;32m    337\u001b[0m         \u001b[39m%\u001b[39m (\n\u001b[1;32m   (...)\u001b[0m\n\u001b[0;32m    343\u001b[0m         )\n\u001b[0;32m    344\u001b[0m     )\n\u001b[0;32m    346\u001b[0m     \u001b[39mif\u001b[39;00m method \u001b[39m!=\u001b[39m \u001b[39m\"\u001b[39m\u001b[39mHEAD\u001b[39m\u001b[39m\"\u001b[39m:\n",
      "File \u001b[1;32m~\\AppData\\Local\\Packages\\PythonSoftwareFoundation.Python.3.10_qbz5n2kfra8p0\\LocalCache\\local-packages\\Python310\\site-packages\\elastic_transport\\_node\\_http_urllib3.py:202\u001b[0m, in \u001b[0;36mUrllib3HttpNode.perform_request\u001b[1;34m(self, method, target, body, headers, request_timeout)\u001b[0m\n\u001b[0;32m    194\u001b[0m         err \u001b[39m=\u001b[39m \u001b[39mConnectionError\u001b[39;00m(\u001b[39mstr\u001b[39m(e), errors\u001b[39m=\u001b[39m(e,))\n\u001b[0;32m    195\u001b[0m     \u001b[39mself\u001b[39m\u001b[39m.\u001b[39m_log_request(\n\u001b[0;32m    196\u001b[0m         method\u001b[39m=\u001b[39mmethod,\n\u001b[0;32m    197\u001b[0m         target\u001b[39m=\u001b[39mtarget,\n\u001b[1;32m   (...)\u001b[0m\n\u001b[0;32m    200\u001b[0m         exception\u001b[39m=\u001b[39merr,\n\u001b[0;32m    201\u001b[0m     )\n\u001b[1;32m--> 202\u001b[0m     \u001b[39mraise\u001b[39;00m err \u001b[39mfrom\u001b[39;00m \u001b[39mNone\u001b[39;00m\n\u001b[0;32m    204\u001b[0m meta \u001b[39m=\u001b[39m ApiResponseMeta(\n\u001b[0;32m    205\u001b[0m     node\u001b[39m=\u001b[39m\u001b[39mself\u001b[39m\u001b[39m.\u001b[39mconfig,\n\u001b[0;32m    206\u001b[0m     duration\u001b[39m=\u001b[39mduration,\n\u001b[1;32m   (...)\u001b[0m\n\u001b[0;32m    209\u001b[0m     headers\u001b[39m=\u001b[39mresponse_headers,\n\u001b[0;32m    210\u001b[0m )\n\u001b[0;32m    211\u001b[0m \u001b[39mself\u001b[39m\u001b[39m.\u001b[39m_log_request(\n\u001b[0;32m    212\u001b[0m     method\u001b[39m=\u001b[39mmethod,\n\u001b[0;32m    213\u001b[0m     target\u001b[39m=\u001b[39mtarget,\n\u001b[1;32m   (...)\u001b[0m\n\u001b[0;32m    217\u001b[0m     response\u001b[39m=\u001b[39mdata,\n\u001b[0;32m    218\u001b[0m )\n",
      "\u001b[1;31mConnectionError\u001b[0m: Connection error caused by: ConnectionError(Connection error caused by: NewConnectionError(<urllib3.connection.HTTPConnection object at 0x0000028DC55288E0>: Failed to establish a new connection: [Errno 11001] getaddrinfo failed))"
     ]
    }
   ],
   "source": [
    "from datetime import datetime\n",
    "from elasticsearch import Elasticsearch\n",
    "\n",
    "ELASTIC_PASSWORD = \"p2iFCHUbC7ze1QoIMVw\"\n",
    "\n",
    "es = Elasticsearch(\"http://elasticsearch:9200\",\n",
    "                    basic_auth=(\"elastic\", ELASTIC_PASSWORD))\n",
    "\n",
    "es.info()"
   ]
  },
  {
   "cell_type": "markdown",
   "id": "e4ceb822-d6d1-43ba-b2e2-dfb31c297952",
   "metadata": {},
   "source": [
    "## Setting up the documents"
   ]
  },
  {
   "cell_type": "code",
   "execution_count": null,
   "id": "bd2abdb4-a966-43de-bbc6-d32041c1f698",
   "metadata": {},
   "outputs": [],
   "source": [
    "# Downloading the data\n",
    "\"\"\"\n",
    "The data is uploaded at a google drive directory, by running this code box, \n",
    "the data will be downloaded and you will have access to it at\n",
    "(enron_short/maildir)\n",
    "\"\"\"\n",
    "import gdown\n",
    "\n",
    "googleDriveURL = \"https://drive.google.com/file/d/10OwgK91e0lNRsrAV31sSJu7KJUujBTnE/view?usp=sharing\"\n",
    "output = 'enron_short.tar.gz'\n",
    "gdown.download(googleDriveURL, output, quiet=False, fuzzy=True)"
   ]
  },
  {
   "cell_type": "code",
   "execution_count": null,
   "id": "28e9a89b-1b35-44ea-8b64-331b365f4acc",
   "metadata": {},
   "outputs": [],
   "source": [
    "# check if the directory exists\n",
    "from os import path\n",
    "\n",
    "zipfile_path = \"enron_short.tar.gz\"\n",
    "if not path.isfile(zipfile_path):\n",
    "    print(\"the zipfile is not here, please ensure you download it first.\")"
   ]
  },
  {
   "cell_type": "code",
   "execution_count": null,
   "id": "616ed7b9-b2e4-46e7-9c2f-54679c3f9b8a",
   "metadata": {},
   "outputs": [],
   "source": [
    "!tar xf enron_short.tar.gz"
   ]
  },
  {
   "cell_type": "code",
   "execution_count": null,
   "id": "747eb047-8aab-47c4-b244-ee73eb984930",
   "metadata": {},
   "outputs": [],
   "source": [
    "# check if the directory exists\n",
    "from os import path\n",
    "\n",
    "documents_path = r\"enron_short/maildir\"\n",
    "if not path.exists(documents_path):\n",
    "    print(\"the directory is not here, please ensure you have the documnets first.\")"
   ]
  },
  {
   "cell_type": "markdown",
   "id": "b2a4210f-ede3-476d-82e3-bad55c8c1b9b",
   "metadata": {},
   "source": [
    "## Your Code:"
   ]
  },
  {
   "cell_type": "code",
   "execution_count": null,
   "id": "82ce99f5-6c1c-4bb2-81f2-a315331b007b",
   "metadata": {},
   "outputs": [],
   "source": [
    "# Index all emails folder enron_short/maildir"
   ]
  },
  {
   "cell_type": "code",
   "execution_count": null,
   "id": "e0a0ff0f-2711-46ad-8ec9-2bb422353b5f",
   "metadata": {},
   "outputs": [],
   "source": [
    "# Query for \"Norwegian and University and Science and Technology” and \"Norwegian University Science Technology\""
   ]
  },
  {
   "cell_type": "code",
   "execution_count": null,
   "id": "a545c678-aa0f-4e8b-b8d3-a0ecd6c4e802",
   "metadata": {},
   "outputs": [],
   "source": []
  }
 ],
 "metadata": {
  "kernelspec": {
   "display_name": "Python 3 (ipykernel)",
   "language": "python",
   "name": "python3"
  },
  "language_info": {
   "codemirror_mode": {
    "name": "ipython",
    "version": 3
   },
   "file_extension": ".py",
   "mimetype": "text/x-python",
   "name": "python",
   "nbconvert_exporter": "python",
   "pygments_lexer": "ipython3",
   "version": "3.10.11"
  }
 },
 "nbformat": 4,
 "nbformat_minor": 5
}

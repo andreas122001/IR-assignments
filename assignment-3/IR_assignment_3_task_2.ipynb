{
  "cells": [
    {
      "cell_type": "code",
      "execution_count": 289,
      "metadata": {
        "colab": {
          "base_uri": "https://localhost:8080/",
          "height": 0
        },
        "id": "uI9uroVQroLE",
        "outputId": "a0d190d8-2c35-426d-871b-e26dafb90f65"
      },
      "outputs": [
        {
          "output_type": "stream",
          "name": "stdout",
          "text": [
            "Requirement already satisfied: gensim in /usr/local/lib/python3.10/dist-packages (4.3.2)\n",
            "Requirement already satisfied: nltk in /usr/local/lib/python3.10/dist-packages (3.8.1)\n",
            "Requirement already satisfied: numpy>=1.18.5 in /usr/local/lib/python3.10/dist-packages (from gensim) (1.23.5)\n",
            "Requirement already satisfied: scipy>=1.7.0 in /usr/local/lib/python3.10/dist-packages (from gensim) (1.11.3)\n",
            "Requirement already satisfied: smart-open>=1.8.1 in /usr/local/lib/python3.10/dist-packages (from gensim) (6.4.0)\n",
            "Requirement already satisfied: click in /usr/local/lib/python3.10/dist-packages (from nltk) (8.1.7)\n",
            "Requirement already satisfied: joblib in /usr/local/lib/python3.10/dist-packages (from nltk) (1.3.2)\n",
            "Requirement already satisfied: regex>=2021.8.3 in /usr/local/lib/python3.10/dist-packages (from nltk) (2023.6.3)\n",
            "Requirement already satisfied: tqdm in /usr/local/lib/python3.10/dist-packages (from nltk) (4.66.1)\n"
          ]
        }
      ],
      "source": [
        "%pip install gensim nltk"
      ]
    },
    {
      "cell_type": "markdown",
      "source": [
        "## 1. Reading and cleaning the file"
      ],
      "metadata": {
        "id": "k6H5dmVzdisp"
      }
    },
    {
      "cell_type": "code",
      "source": [
        "import codecs, re\n",
        "import random\n",
        "random.seed(123)\n",
        "\n",
        "# Read the file...:\n",
        "f = codecs.open(\"pg3300.txt\", \"r\", \"utf-8\")\n",
        "string_data = f.read()\n",
        "\n",
        "#... and separate into paragraphs as proposed on Piazza:\n",
        "corpus = []\n",
        "curr_para = \"\"\n",
        "f = codecs.open(\"pg3300.txt\", \"r\", \"utf-8\")\n",
        "for line in string_data.split(\"\\r\\n\"):\n",
        "    # If the line is just whitespace (we don't care about newlines and punctuation here):\n",
        "    if all([c == \" \" for c in line]):\n",
        "        # Add the current paragraph to the corpus (if it is not empty), and reset\n",
        "        if len(curr_para) > 0:\n",
        "            corpus.append(curr_para)\n",
        "        curr_para = \"\"\n",
        "    # Else, we just append the line to the paragraph\n",
        "    else:\n",
        "        curr_para += line + \"\\n\"\n",
        "len(corpus)"
      ],
      "metadata": {
        "colab": {
          "base_uri": "https://localhost:8080/",
          "height": 0
        },
        "id": "Yo3u7g7FXH7G",
        "outputId": "cb943988-27ab-469b-82d1-b24c03bc686b"
      },
      "execution_count": 290,
      "outputs": [
        {
          "output_type": "execute_result",
          "data": {
            "text/plain": [
              "2251"
            ]
          },
          "metadata": {},
          "execution_count": 290
        }
      ]
    },
    {
      "cell_type": "code",
      "source": [
        "# Filter unwanted paragraphs (footer, header)\n",
        "corpus = list(filter(lambda x: \"gutenberg\" not in x.lower(), corpus))\n",
        "\n",
        "# Clean the text a bit for better representation\n",
        "corpus = [re.sub(' +', ' ', para).strip() for para in corpus]\n",
        "\n",
        "# Now see the new corpus size, and example document:\n",
        "print(len(corpus))\n",
        "corpus[100]"
      ],
      "metadata": {
        "colab": {
          "base_uri": "https://localhost:8080/",
          "height": 105
        },
        "id": "lXewu4Z6b5da",
        "outputId": "152beb85-2df5-424f-c77c-c92ac3d0425b"
      },
      "execution_count": 291,
      "outputs": [
        {
          "output_type": "stream",
          "name": "stdout",
          "text": [
            "2207\n"
          ]
        },
        {
          "output_type": "execute_result",
          "data": {
            "text/plain": [
              "'In the English mint, a pound weight of gold is coined into forty-four\\n guineas and a half, which at one-and-twenty shillings the guinea, is equal\\n to forty-six pounds fourteen shillings and sixpence. An ounce of such gold\\n coin, therefore, is worth £ 3:17:10½ in silver. In England, no duty or\\n seignorage is paid upon the coinage, and he who carries a pound weight or\\n an ounce weight of standard gold bullion to the mint, gets back a pound\\n weight or an ounce weight of gold in coin, without any deduction. Three\\n pounds seventeen shillings and tenpence halfpenny an ounce, therefore, is\\n said to be the mint price of gold in England, or the quantity of gold coin\\n which the mint gives in return for standard gold bullion.'"
            ],
            "application/vnd.google.colaboratory.intrinsic+json": {
              "type": "string"
            }
          },
          "metadata": {},
          "execution_count": 291
        }
      ]
    },
    {
      "cell_type": "markdown",
      "source": [
        "As a result of the cleaning, we went from 2251 documents to 2207 documents total.\n",
        "\n",
        "Now let's preprocess the text for use in a retrieval model:"
      ],
      "metadata": {
        "id": "j1FQu-uOh1zc"
      }
    },
    {
      "cell_type": "code",
      "execution_count": 292,
      "metadata": {
        "id": "8Mw3jO7d9-QO"
      },
      "outputs": [],
      "source": [
        "from nltk.stem.porter import PorterStemmer\n",
        "import string\n",
        "\n",
        "# This is used for preprocessing of both the corpus and queries\n",
        "def preprocessing(text):\n",
        "    # Initiate stemmer\n",
        "    stemmer = PorterStemmer()\n",
        "\n",
        "    # Define unwanted characters (punctuation)\n",
        "    bad_chars = string.punctuation+\"\\n\\r\\t\"\n",
        "\n",
        "    # Clean, tokenize and stem text\n",
        "    new_text = text = text.lower() # all lower case\n",
        "    new_text = \"\".join(list(filter(lambda x: x not in bad_chars, new_text))) # remove unwanted chars\n",
        "    new_text = new_text.split(\" \") # tokenize (split into words)\n",
        "    new_text = list(filter(lambda c: len(c) > 0, new_text)) # remove empty strings\n",
        "    new_text = [stemmer.stem(word) for word in new_text] # perform stemming\n",
        "    return new_text"
      ]
    },
    {
      "cell_type": "code",
      "execution_count": 293,
      "metadata": {
        "id": "q7P0RPn0xXIb"
      },
      "outputs": [],
      "source": [
        "# Perform preprocessing on the corpus (we just call it 'collection' now)\n",
        "collection = [preprocessing(text) for text in corpus]"
      ]
    },
    {
      "cell_type": "markdown",
      "source": [
        "Let's look at the word frequencies:"
      ],
      "metadata": {
        "id": "5_YDPavWiU9Q"
      }
    },
    {
      "cell_type": "code",
      "execution_count": 294,
      "metadata": {
        "id": "708U9bFf_NtF"
      },
      "outputs": [],
      "source": [
        "from nltk import FreqDist\n",
        "freqDist = FreqDist(\" \".join([\" \".join(para) for para in collection]).split(\" \"))"
      ]
    },
    {
      "cell_type": "code",
      "execution_count": 295,
      "metadata": {
        "colab": {
          "base_uri": "https://localhost:8080/",
          "height": 0
        },
        "id": "TAExJN78_b-X",
        "outputId": "bcccf6c7-aaef-42f4-afb5-f53ccae30446"
      },
      "outputs": [
        {
          "output_type": "execute_result",
          "data": {
            "text/plain": [
              "881"
            ]
          },
          "metadata": {},
          "execution_count": 295
        }
      ],
      "source": [
        "freqDist['tax']"
      ]
    },
    {
      "cell_type": "markdown",
      "source": [
        "The word 'tax' (or variations of the word) is mentioned 881 times in the collection.\n",
        "\n",
        "We can plot the top words like this:"
      ],
      "metadata": {
        "id": "89L-vB7zjrKb"
      }
    },
    {
      "cell_type": "code",
      "source": [
        "import matplotlib.pyplot as plt\n",
        "import numpy as np\n",
        "\n",
        "sorted_freq_dist = dict(sorted(freqDist.items(), key=lambda x:x[1], reverse=True))\n",
        "\n",
        "x = np.linspace(0,15,15)\n",
        "x_labels = list(sorted_freq_dist.keys())[:15]\n",
        "y = list(sorted_freq_dist.values())[:15]\n",
        "\n",
        "plt.xticks(x, x_labels)\n",
        "\n",
        "plt.bar(x,y);"
      ],
      "metadata": {
        "colab": {
          "base_uri": "https://localhost:8080/",
          "height": 430
        },
        "id": "GlTks2EkoAIM",
        "outputId": "cf50f116-f96a-4488-a63a-324bd55513a5"
      },
      "execution_count": 296,
      "outputs": [
        {
          "output_type": "display_data",
          "data": {
            "text/plain": [
              "<Figure size 640x480 with 1 Axes>"
            ],
            "image/png": "[encoded data removed]"
          },
          "metadata": {}
        }
      ]
    },
    {
      "cell_type": "markdown",
      "source": [
        "The word 'the' is mentioned A LOT, and it is thus pretty useless for retrieval. Next, we will remove such useless words."
      ],
      "metadata": {
        "id": "gzVUbLUYr2s0"
      }
    },
    {
      "cell_type": "markdown",
      "metadata": {
        "id": "cnaIl5vjDzGn"
      },
      "source": [
        "## 2. Dictionary building\n",
        "We create a dictionary:"
      ]
    },
    {
      "cell_type": "code",
      "execution_count": 297,
      "metadata": {
        "id": "yMeRS3eCEXBH"
      },
      "outputs": [],
      "source": [
        "import gensim\n",
        "dictionary = gensim.corpora.Dictionary(collection)"
      ]
    },
    {
      "cell_type": "markdown",
      "metadata": {
        "id": "_qoWerfAxXIc"
      },
      "source": [
        "Then we filter out common words from the dictionary:"
      ]
    },
    {
      "cell_type": "code",
      "execution_count": 298,
      "metadata": {
        "id": "yFu8hO0eFd6t"
      },
      "outputs": [],
      "source": [
        "f = codecs.open(\"common-english-words.txt\", \"r\", \"utf-8\")\n",
        "common_words = f.read().split(\",\") # get a list of common words\n",
        "\n",
        "# Filter out all words that are not actually in the dictionary\n",
        "common_words = list(filter(lambda x: x in dictionary.values(), common_words))\n",
        "\n",
        "# Generate tokens and remove all common words from the dictionary\n",
        "tokens_ids = [dictionary.token2id[word] for word in common_words]\n",
        "dictionary.filter_tokens(tokens_ids)"
      ]
    },
    {
      "cell_type": "markdown",
      "metadata": {
        "id": "TAo_qYz9xXId"
      },
      "source": [
        "Now we can generate a bag-of-words model from out collection and the reduced dictionary:"
      ]
    },
    {
      "cell_type": "code",
      "execution_count": 299,
      "metadata": {
        "id": "PEge6fZSF9g-"
      },
      "outputs": [],
      "source": [
        "# Generate a bag-of-words model from the collection\n",
        "bow_collection = [dictionary.doc2bow(doc) for doc in collection]"
      ]
    },
    {
      "cell_type": "markdown",
      "metadata": {
        "id": "OawBdwVWQUUs"
      },
      "source": [
        "## 3. Retrieval Models\n",
        "Initialize TF-IDF model with the BoW-collection and LSI model with the generated TF-IDF collection"
      ]
    },
    {
      "cell_type": "code",
      "execution_count": 300,
      "metadata": {
        "id": "OE5bfelJQXnz"
      },
      "outputs": [],
      "source": [
        "tfidf_model = gensim.models.TfidfModel(bow_collection)\n",
        "tfidf_corpus = tfidf_model[bow_collection]\n",
        "sim_tfidf = gensim.similarities.MatrixSimilarity(tfidf_corpus, num_features=len(dictionary))"
      ]
    },
    {
      "cell_type": "code",
      "execution_count": 301,
      "metadata": {
        "id": "Jdw7bq-_SByw"
      },
      "outputs": [],
      "source": [
        "lsi_model = gensim.models.LsiModel(tfidf_corpus, id2word=dictionary, num_topics=100)\n",
        "lsi_corpus = lsi_model[tfidf_corpus]\n",
        "sim_lsi = gensim.similarities.MatrixSimilarity(lsi_corpus, num_features=len(dictionary))"
      ]
    },
    {
      "cell_type": "markdown",
      "source": [
        "Let's look at the topics gathered by the LSI-model:"
      ],
      "metadata": {
        "id": "tb02pSnqiy5K"
      }
    },
    {
      "cell_type": "code",
      "execution_count": 302,
      "metadata": {
        "id": "7dhKnJzLSkYB",
        "outputId": "003cf50a-9e8f-4cbb-9be7-de9581ea02ca",
        "colab": {
          "base_uri": "https://localhost:8080/",
          "height": 0
        }
      },
      "outputs": [
        {
          "output_type": "execute_result",
          "data": {
            "text/plain": [
              "[(0,\n",
              "  '0.146*\"labour\" + 0.137*\"price\" + 0.128*\"employ\" + 0.127*\"produc\" + 0.122*\"capit\" + 0.122*\"countri\" + 0.120*\"trade\" + 0.119*\"hi\" + 0.115*\"tax\" + 0.113*\"land\"'),\n",
              " (1,\n",
              "  '-0.250*\"labour\" + 0.210*\"silver\" + -0.204*\"rent\" + 0.196*\"gold\" + -0.194*\"land\" + -0.189*\"stock\" + -0.184*\"employ\" + -0.183*\"profit\" + -0.175*\"capit\" + 0.159*\"coin\"'),\n",
              " (2,\n",
              "  '0.346*\"price\" + 0.238*\"silver\" + 0.208*\"quantiti\" + -0.207*\"trade\" + 0.169*\"labour\" + -0.166*\"coloni\" + 0.160*\"gold\" + 0.159*\"valu\" + 0.136*\"corn\" + 0.133*\"coin\"')]"
            ]
          },
          "metadata": {},
          "execution_count": 302
        }
      ],
      "source": [
        "lsi_model.show_topics(3)"
      ]
    },
    {
      "cell_type": "markdown",
      "source": [
        "So, for, e.g., the first topic, we see that the words \"labour\" and \"price\", etc. often occurs. The word \"land\" occurs a bit less frequently, etc."
      ],
      "metadata": {
        "id": "02CoG1Tp2KkW"
      }
    },
    {
      "cell_type": "markdown",
      "metadata": {
        "id": "VMvu9GCOSs61"
      },
      "source": [
        "# 4. Querying"
      ]
    },
    {
      "cell_type": "code",
      "execution_count": 303,
      "metadata": {
        "colab": {
          "base_uri": "https://localhost:8080/",
          "height": 0
        },
        "id": "qDDdWHU8SuvO",
        "outputId": "e644925f-154d-49b7-a9fb-2dbe9f2ec222"
      },
      "outputs": [
        {
          "output_type": "stream",
          "name": "stdout",
          "text": [
            "Preprocessed query (id : word : weight):\n",
            "47   : money      : 0.3145\n",
            "1195 : function   : 0.9493\n"
          ]
        }
      ],
      "source": [
        "query = \"What is the function of money?\"\n",
        "#query = \"How taxes influence Economics?\"\n",
        "\n",
        "# Perfrom query preprocessing\n",
        "query = preprocessing(query)\n",
        "bow_query = dictionary.doc2bow(query) # turn into bag-of-words\n",
        "tfidf_query = tfidf_model[bow_query] # turn into (ID, TF-IDF-weight)-pairs\n",
        "lsi_query = lsi_model[tfidf_query] # turn into LSI-query\n",
        "\n",
        "print(\"Preprocessed query (id : word : weight):\")\n",
        "for _id, val in tfidf_query:\n",
        "\tprint(f\"{_id:<4} : {dictionary[_id]:<10} : {val:.4f}\")"
      ]
    },
    {
      "cell_type": "markdown",
      "metadata": {
        "id": "Lgh3cel9xXIe"
      },
      "source": [
        "Here we can see the query is turned into two words \"money\" and \"function\", with TF_IDF-weight ~$0.31$ and ~$0.95$, respectively.\n",
        "\n",
        "Now, let's rank the documents using the TF-IDF model:"
      ]
    },
    {
      "cell_type": "code",
      "execution_count": 304,
      "metadata": {
        "colab": {
          "base_uri": "https://localhost:8080/",
          "height": 0
        },
        "id": "Frbr8d8AVpfe",
        "outputId": "ed2b3972-9d6c-4349-c189-077f77ef704a"
      },
      "outputs": [
        {
          "output_type": "stream",
          "name": "stdout",
          "text": [
            "[paragraph 681] (Score: 43.89099)\n",
            "The general stock of any country or society is the same with that of all\n",
            " its inhabitants or members; and, therefore, naturally divides itself into\n",
            " the same three portions, each of which has a distinct function or office.\n",
            "\n",
            "[paragraph 992] (Score: 28.47361)\n",
            "That wealth consists in money, or in gold and silver, is a popular notion\n",
            " which naturally arises from the double function of money, as the\n",
            " instrument of commerce, and as the measure of value. In consequence of its\n",
            " being the instrument of commerce, when we have money we can more readily\n",
            " obtain whatever else we have occasion for, than by means of any other\n",
            "\n",
            "[paragraph 816] (Score: 26.85705)\n",
            "Whatever part of his stock a man employs as a capital, he always expects\n",
            " it to be replaced to him with a profit. He employs it, therefore, in\n",
            " maintaining productive hands only; and after having served in the function\n",
            " of a capital to him, it constitutes a revenue to them. Whenever he employs\n",
            " any part of it in maintaining unproductive hands of any kind, that part is\n",
            "\n"
          ]
        }
      ],
      "source": [
        "# Print three best ranked documents (IF-IDF)\n",
        "doc2sim = enumerate(sim_tfidf[tfidf_query])\n",
        "rankings = sorted(doc2sim, key=lambda kv: -kv[1])[:3]\n",
        "for _id, rank in rankings:\n",
        "\tprint(f\"[paragraph {_id}] (Score: {rank*100:.5f})\")\n",
        "\tdoc = corpus[_id]\n",
        "\tprint(\"\\n\".join(doc.split(\"\\n\")[:5]), end=\"\\n\\n\") # Print 5 lines"
      ]
    },
    {
      "cell_type": "markdown",
      "source": [
        "We see docs 681, 992 and 816 are the top documents. They all contain the words \"function\" and \"money\", so this makes sense."
      ],
      "metadata": {
        "id": "njyZfz2B9w6o"
      }
    },
    {
      "cell_type": "markdown",
      "metadata": {
        "id": "1wORR9_YxXIf"
      },
      "source": [
        "\n",
        "\n",
        "Now we can rank the LSI-topics using the TF-IDF query weights:"
      ]
    },
    {
      "cell_type": "code",
      "execution_count": 305,
      "metadata": {
        "id": "duA9z5ArxXIf",
        "outputId": "14d13186-966b-4f41-dbb5-0b3af6c3b2a7",
        "colab": {
          "base_uri": "https://localhost:8080/",
          "height": 0
        }
      },
      "outputs": [
        {
          "output_type": "stream",
          "name": "stdout",
          "text": [
            "[topic 62] (Score: 7.10585)\n",
            "0.187*\"money\" + -0.147*\"proport\" + 0.136*\"caus\" + 0.125*\"class\" + 0.122*\"pound\" + 0.108*\"british\" + -0.107*\"revenu\" + -0.107*\"town\" + 0.107*\"stock\" + -0.099*\"improv\"\n",
            "\n",
            "[topic 4] (Score: 6.87653)\n",
            "0.262*\"bank\" + -0.241*\"price\" + 0.230*\"circul\" + 0.218*\"capit\" + 0.192*\"gold\" + 0.184*\"money\" + -0.171*\"corn\" + -0.144*\"tax\" + 0.142*\"coin\" + -0.137*\"import\"\n",
            "\n",
            "[topic 15] (Score: 6.01430)\n",
            "-0.283*\"coloni\" + -0.278*\"circul\" + 0.208*\"increas\" + 0.183*\"cent\" + 0.180*\"per\" + 0.175*\"coin\" + -0.163*\"money\" + -0.147*\"chapter\" + -0.143*\"paper\" + -0.138*\"hi\"\n",
            "\n"
          ]
        }
      ],
      "source": [
        "# Print three top topics\n",
        "doc2sim = enumerate(sim_lsi[lsi_query])\n",
        "rankings = sorted(lsi_query, key=lambda kv: -abs(kv[1]))[:3]\n",
        "for _id, rank in rankings:\n",
        "\tprint(f\"[topic {_id}] (Score: {abs(rank)*100:.5f})\")\n",
        "\tprint(lsi_model.print_topic(_id), end=\"\\n\\n\")"
      ]
    },
    {
      "cell_type": "markdown",
      "source": [
        "For topic 62, \"money\", \"class\" and \"stock\" is often discussed, but \"proportion*\" and \"revenue\" is not very often discussed."
      ],
      "metadata": {
        "id": "2eTpb0L59EI4"
      }
    },
    {
      "cell_type": "markdown",
      "source": [
        "Now we rank using the LSI model:"
      ],
      "metadata": {
        "id": "56HNTQN_62iO"
      }
    },
    {
      "cell_type": "code",
      "source": [
        "# Print three best ranked documents (LSI)\n",
        "doc2sim = enumerate(sim_lsi[lsi_query])\n",
        "rankings = sorted(doc2sim, key=lambda kv: -abs(kv[1]))[:3]\n",
        "for _id, rank in rankings:\n",
        "\tprint(f\"[paragraph {_id}] (Score: {abs(rank*100):.5f})\")\n",
        "\tdoc = corpus[_id]\n",
        "\tprint(\"\\n\".join(doc.split(\"\\n\")[:5]), end=\"\\n\\n\") # Print 5 lines"
      ],
      "metadata": {
        "colab": {
          "base_uri": "https://localhost:8080/",
          "height": 0
        },
        "id": "snaWlXDQ3A_4",
        "outputId": "8b0b580e-0e32-4c3b-cae4-3c0a17a542bc"
      },
      "execution_count": 306,
      "outputs": [
        {
          "output_type": "stream",
          "name": "stdout",
          "text": [
            "[paragraph 992] (Score: 72.48180)\n",
            "That wealth consists in money, or in gold and silver, is a popular notion\n",
            " which naturally arises from the double function of money, as the\n",
            " instrument of commerce, and as the measure of value. In consequence of its\n",
            " being the instrument of commerce, when we have money we can more readily\n",
            " obtain whatever else we have occasion for, than by means of any other\n",
            "\n",
            "[paragraph 1008] (Score: 63.13451)\n",
            "It would be too ridiculous to go about seriously to prove, that wealth\n",
            " does not consist in money, or in gold and silver; but in what money\n",
            " purchases, and is valuable only for purchasing. Money, no doubt, makes\n",
            " always a part of the national capital; but it has already been shown that\n",
            " it generally makes but a small part, and always the most unprofitable part\n",
            "\n",
            "[paragraph 1007] (Score: 60.45233)\n",
            "No complaint, however, is more common than that of a scarcity of money.\n",
            " Money, like wine, must always be scarce with those who have neither\n",
            " wherewithal to buy it, nor credit to borrow it. Those who have either,\n",
            " will seldom be in want either of the money, or of the wine which they have\n",
            " occasion for. This complaint, however, of the scarcity of money, is not\n",
            "\n"
          ]
        }
      ]
    },
    {
      "cell_type": "markdown",
      "source": [
        "Now we get the docs 992, 1008 and 1007 as best ranked documents. We see that document 992 is in both of the rankings, probably because it contains multiple instances of \"money\" and one of \"function\" as well (as far as we see in the five lines). It is interesting, however, that the documents 681 and 816 don't appear in the LSI model and is replaced by 1007 and 1008, and vice versa."
      ],
      "metadata": {
        "id": "VN33MZZt6-JP"
      }
    }
  ],
  "metadata": {
    "colab": {
      "provenance": []
    },
    "kernelspec": {
      "display_name": "Python 3",
      "name": "python3"
    },
    "language_info": {
      "codemirror_mode": {
        "name": "ipython",
        "version": 3
      },
      "file_extension": ".py",
      "mimetype": "text/x-python",
      "name": "python",
      "nbconvert_exporter": "python",
      "pygments_lexer": "ipython3",
      "version": "3.10.11"
    }
  },
  "nbformat": 4,
  "nbformat_minor": 0
}